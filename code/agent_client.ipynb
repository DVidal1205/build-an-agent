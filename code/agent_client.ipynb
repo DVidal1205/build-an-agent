{
 "cells": [
  {
   "cell_type": "markdown",
   "id": "fbbed95a-4ffe-4528-8e6d-08e2bcd9149f",
   "metadata": {},
   "source": [
    "# Agent Client"
   ]
  },
  {
   "cell_type": "code",
   "execution_count": 1,
   "id": "77243ccf-c702-4f67-85f7-0ebe7808a963",
   "metadata": {},
   "outputs": [
    {
     "name": "stdout",
     "output_type": "stream",
     "text": [
      "Note: you may need to restart the kernel to use updated packages.\n"
     ]
    }
   ],
   "source": [
    "%pip install -r ../requirements.txt > /dev/null\n",
    "from dotenv import load_dotenv\n",
    "_ = load_dotenv(\"../variables.env\")\n",
    "_ = load_dotenv(\"../secrets.env\")"
   ]
  },
  {
   "cell_type": "code",
   "execution_count": 2,
   "id": "907fa086-42ee-40a0-8e60-d392de19b399",
   "metadata": {},
   "outputs": [],
   "source": [
    "import logging\n",
    "logging.basicConfig(level=logging.INFO)\n",
    "\n",
    "from IPython.display import Markdown\n",
    "\n",
    "from docgen_agent import AgentState, graph"
   ]
  },
  {
   "cell_type": "markdown",
   "id": "423b4043-81d6-4a1b-b432-b07fb3d043a0",
   "metadata": {},
   "source": [
    "## Inputs\n",
    "\n",
    "Try making changes to the agent request."
   ]
  },
  {
   "cell_type": "code",
   "execution_count": 3,
   "id": "51c1ee85-8472-46be-bbe9-66a14e93c812",
   "metadata": {},
   "outputs": [],
   "source": [
    "topic = \"The latest developments with AI Agents in 2025.\""
   ]
  },
  {
   "cell_type": "code",
   "execution_count": 4,
   "id": "d0abd9ad-d1c0-4b57-b1b2-a87fa70df787",
   "metadata": {},
   "outputs": [],
   "source": [
    "structure = \"\"\"\n",
    "This article should be informative and future looking.\n",
    "The topics of the report should stay enterprise focused and professional.\n",
    "\n",
    "The report structure should include:\n",
    "1. Introduction (no research needed)\n",
    "- Brief overview of the topic area that will be discussed in the rest of the article\n",
    "\n",
    "2. Main Body Sections:\n",
    "- One dedicated section for EACH major feature\n",
    "- Each section should examine:\n",
    "- How the new feature is beneficial\n",
    "- Impacts on enterprises\n",
    "- One example use case (2-3 sentences)\n",
    "\n",
    "3. No Main Body Sections other than the ones dedicated to each feature\n",
    "\n",
    "4. Conclusion that summarizes the new features (no research needed)\n",
    "- Final recommendations\n",
    "\"\"\""
   ]
  },
  {
   "cell_type": "markdown",
   "id": "ff6ce016-b2f9-42bc-841b-5670b20a8688",
   "metadata": {},
   "source": [
    "## Ask the Agent\n",
    "\n",
    "Here, we will send your request to the agent. The agent will print log messages to let you know what it is up to. Expect this step to take a few minutes."
   ]
  },
  {
   "cell_type": "code",
   "execution_count": 5,
   "id": "c0669ee3-902c-44a0-8916-147e53a4fabc",
   "metadata": {},
   "outputs": [
    {
     "name": "stderr",
     "output_type": "stream",
     "text": [
      "INFO:docgen_agent.agent:Performing initial topic research.\n",
      "INFO:docgen_agent.researcher:Calling model.\n",
      "INFO:docgen_agent.researcher:Executing tool calls.\n",
      "INFO:docgen_agent.researcher:Executing tool call: search_tavily\n",
      "INFO:docgen_agent.tools:Searching the web using the Tavily API\n",
      "INFO:docgen_agent.tools:Searching for query: AI Agents 2025 core features\n",
      "INFO:docgen_agent.tools:Searching for query: Real-world applications of AI Agents in 2024\n",
      "INFO:docgen_agent.tools:Searching for query: Technical architecture of AI Agents vs Machine Learning\n",
      "INFO:docgen_agent.tools:Searching for query: Recent developments in AI Agents 2025\n",
      "INFO:docgen_agent.tools:Searching for query: AI Agents implementation examples in industry\n",
      "INFO:httpx:HTTP Request: POST https://api.tavily.com/search \"HTTP/1.1 200 OK\"\n",
      "INFO:httpx:HTTP Request: POST https://api.tavily.com/search \"HTTP/1.1 200 OK\"\n",
      "INFO:httpx:HTTP Request: POST https://api.tavily.com/search \"HTTP/1.1 200 OK\"\n",
      "INFO:httpx:HTTP Request: POST https://api.tavily.com/search \"HTTP/1.1 200 OK\"\n",
      "INFO:httpx:HTTP Request: POST https://api.tavily.com/search \"HTTP/1.1 200 OK\"\n",
      "INFO:docgen_agent.researcher:Calling model.\n",
      "INFO:docgen_agent.agent:Calling report planner.\n",
      "INFO:docgen_agent.agent:Orchestrating the section authoring process.\n",
      "INFO:docgen_agent.agent:Creating author agent for section: Introduction\n",
      "INFO:docgen_agent.agent:Creating author agent for section: Autonomous Decision-Making\n",
      "INFO:docgen_agent.agent:Creating author agent for section: Real-Time Data Processing\n",
      "INFO:docgen_agent.agent:Creating author agent for section: Industry-Specific Applications\n",
      "INFO:docgen_agent.agent:Creating author agent for section: Conclusion\n",
      "INFO:docgen_agent.agent:Throttling LLM calls.\n",
      "INFO:docgen_agent.author:Writing section: Introduction\n",
      "INFO:docgen_agent.author:Researching section: Autonomous Decision-Making\n",
      "INFO:docgen_agent.author:Writing section: Autonomous Decision-Making\n",
      "INFO:docgen_agent.author:Researching section: Real-Time Data Processing\n",
      "INFO:docgen_agent.author:Writing section: Real-Time Data Processing\n",
      "INFO:docgen_agent.author:Researching section: Industry-Specific Applications\n",
      "INFO:docgen_agent.author:Writing section: Industry-Specific Applications\n",
      "INFO:docgen_agent.author:Writing section: Conclusion\n",
      "INFO:docgen_agent.agent:Finished section: Introduction\n",
      "INFO:docgen_agent.agent:Finished section: Autonomous Decision-Making\n",
      "INFO:docgen_agent.agent:Finished section: Real-Time Data Processing\n",
      "INFO:docgen_agent.agent:Finished section: Industry-Specific Applications\n",
      "INFO:docgen_agent.agent:Finished section: Conclusion\n",
      "INFO:docgen_agent.agent:Authoring the report.\n"
     ]
    }
   ],
   "source": [
    "state = AgentState(\n",
    "    topic=topic,\n",
    "    report_structure=structure\n",
    ")\n",
    "\n",
    "state = await graph.ainvoke(state)"
   ]
  },
  {
   "cell_type": "markdown",
   "id": "6bdedc2f-164c-4ace-8f5b-cf27eefadbd2",
   "metadata": {},
   "source": [
    "## Render the Final Document\n",
    "\n",
    "Let's see what the agent was able to find for us."
   ]
  },
  {
   "cell_type": "code",
   "execution_count": 6,
   "id": "fe890305-0f1c-4c8d-a918-b5d0dbbfbe39",
   "metadata": {},
   "outputs": [
    {
     "data": {
      "text/markdown": [
       "# The latest developments with AI Agents in 2025\n",
       "\n",
       "## Introduction\n",
       "\n",
       "The field of Artificial Intelligence (AI) has witnessed significant advancements in recent years, with AI agents being one of the most promising developments. AI agents are autonomous systems that can interact with their environment, collect data, and use the data to perform self-determined tasks to meet predetermined goals. In 2025, AI agents are expected to play a crucial role in transforming various industries, including customer service, human resources, sales, procurement, and healthcare.\n",
       "\n",
       "This report provides an overview of the latest developments in AI agents, covering their core features, real-world applications, technical architecture, and comparisons with similar technologies. The report also explores the potential impact of AI agents on various industries and discusses the challenges and opportunities associated with their adoption.\n",
       "\n",
       "The global AI agent market is projected to grow from USD 5.1 billion in 2024 to USD 47.1 billion by 2030, at a CAGR of 44.8 percent. This growth is driven by the increasing demand for autonomous systems that can perform complex tasks, make decisions, and optimize processes without human intervention. AI agents can be used to automate workflow, improve decision-making, and scale processes effortlessly, making them an attractive solution for businesses looking to improve efficiency and reduce costs.\n",
       "\n",
       "In the following sections, we will delve deeper into the world of AI agents, exploring their technical architecture, real-world applications, and potential impact on various industries. We will also discuss the challenges and opportunities associated with the adoption of AI agents and provide insights into the future of this technology.\n",
       "\n",
       "## Autonomous Decision-Making\n",
       "\n",
       "Autonomous decision-making is a critical aspect of AI agents, enabling them to make decisions without human intervention. This section will delve into the concept of autonomous decision-making, its key components, and the various techniques used to achieve it.\n",
       "\n",
       "### Introduction to Autonomous Decision-Making\n",
       "\n",
       "Autonomous decision-making refers to the ability of AI agents to make decisions independently, without human input or supervision. This is achieved through the use of advanced algorithms, machine learning techniques, and data analysis. Autonomous decision-making is a crucial aspect of AI agents, as it enables them to respond to changing situations, adapt to new information, and make decisions in real-time.\n",
       "\n",
       "### Key Components of Autonomous Decision-Making\n",
       "\n",
       "Several key components are essential for autonomous decision-making in AI agents. These include:\n",
       "\n",
       "1. **Data Collection**: AI agents must be able to collect and process large amounts of data from various sources, including sensors, databases, and other agents.\n",
       "2. **Data Analysis**: AI agents must be able to analyze the collected data, identify patterns, and extract relevant information.\n",
       "3. **Decision-Making Algorithms**: AI agents must be equipped with advanced decision-making algorithms, such as machine learning, deep learning, or optimization techniques, to make informed decisions.\n",
       "4. **Knowledge Representation**: AI agents must have a robust knowledge representation system to store and manage the knowledge and information used for decision-making.\n",
       "\n",
       "### Techniques for Autonomous Decision-Making\n",
       "\n",
       "Several techniques are used to achieve autonomous decision-making in AI agents, including:\n",
       "\n",
       "1. **Reinforcement Learning**: This technique involves training AI agents to make decisions based on rewards or penalties received from the environment.\n",
       "2. **Deep Learning**: This technique involves using neural networks to analyze data and make decisions.\n",
       "3. **Optimization Techniques**: This technique involves using optimization algorithms, such as linear programming or dynamic programming, to make decisions that maximize or minimize a specific objective function.\n",
       "4. **Hybrid Approaches**: This technique involves combining multiple techniques, such as machine learning and optimization, to achieve autonomous decision-making.\n",
       "\n",
       "### Examples and Implementation Details\n",
       "\n",
       "Autonomous decision-making has been successfully implemented in various applications, including:\n",
       "\n",
       "1. **Autonomous Vehicles**: AI agents are used to control autonomous vehicles, making decisions about navigation, obstacle avoidance, and traffic management.\n",
       "2. **Smart Homes**: AI agents are used to control smart home systems, making decisions about temperature, lighting, and security.\n",
       "3. **Healthcare**: AI agents are used to analyze medical data, make diagnoses, and recommend treatments.\n",
       "4. **Finance**: AI agents are used to analyze financial data, make investment decisions, and manage portfolios.\n",
       "\n",
       "In conclusion, autonomous decision-making is a critical aspect of AI agents, enabling them to make decisions without human intervention. By understanding the key components and techniques used for autonomous decision-making, we can develop more advanced AI agents that can operate independently and make informed decisions in complex environments.\n",
       "\n",
       "Real-Time Data Processing\n",
       "==========================\n",
       "\n",
       "AI agents have revolutionized the way data is processed and decisions are made in various industries. One of the key features of AI agents is their ability to process data in real-time, enabling them to make informed decisions quickly and efficiently. In this section, we will explore the concept of real-time data processing in AI agents, its technical architecture, and real-world examples of its implementation.\n",
       "\n",
       "### Technical Architecture\n",
       "\n",
       "The technical architecture of AI agents for real-time data processing typically involves the following components:\n",
       "\n",
       "1. **Data Ingestion**: This component is responsible for collecting data from various sources, such as sensors, logs, or social media platforms.\n",
       "2. **Data Processing**: This component processes the ingested data in real-time, using techniques such as streaming analytics, event-driven architecture, or edge computing.\n",
       "3. **Machine Learning**: This component uses machine learning algorithms to analyze the processed data and make predictions or decisions.\n",
       "4. **Decision-Making**: This component takes the output from the machine learning component and makes decisions based on predefined rules or goals.\n",
       "\n",
       "### Real-World Examples\n",
       "\n",
       "Several industries have implemented AI agents for real-time data processing, including:\n",
       "\n",
       "1. **Finance**: AI agents are used in finance to detect fraudulent transactions, predict stock prices, and optimize portfolio management.\n",
       "2. **Healthcare**: AI agents are used in healthcare to monitor patient vital signs, detect diseases, and optimize treatment plans.\n",
       "3. **Retail**: AI agents are used in retail to personalize customer experiences, optimize inventory management, and predict sales trends.\n",
       "4. **Manufacturing**: AI agents are used in manufacturing to predict equipment failures, optimize production schedules, and improve quality control.\n",
       "\n",
       "### Best Practices\n",
       "\n",
       "To implement AI agents for real-time data processing effectively, follow these best practices:\n",
       "\n",
       "1. **Choose the right data processing framework**: Select a framework that can handle high-volume, high-velocity, and high-variety data, such as Apache Kafka, Apache Storm, or Apache Flink.\n",
       "2. **Use edge computing**: Edge computing can reduce latency and improve real-time decision-making by processing data closer to the source.\n",
       "3. **Implement machine learning algorithms**: Use machine learning algorithms that can handle real-time data, such as online learning, incremental learning, or transfer learning.\n",
       "4. **Monitor and evaluate performance**: Continuously monitor and evaluate the performance of AI agents to ensure they are making accurate decisions and improving over time.\n",
       "\n",
       "In conclusion, real-time data processing is a critical component of AI agents, enabling them to make informed decisions quickly and efficiently. By understanding the technical architecture and implementing best practices, organizations can leverage AI agents to improve decision-making, optimize operations, and drive business success.\n",
       "\n",
       "## Industry-Specific Applications\n",
       "\n",
       "AI agents have numerous applications across various industries, transforming the way businesses operate and interact with customers. This section explores the use of AI agents in healthcare, finance, retail, and other sectors.\n",
       "\n",
       "### Healthcare\n",
       "\n",
       "AI agents are being used in healthcare to improve patient outcomes, streamline clinical workflows, and enhance the overall quality of care. For instance, AI-powered chatbots can help patients schedule appointments, provide medication reminders, and offer personalized health advice. Additionally, AI agents can assist healthcare professionals in diagnosing diseases, developing treatment plans, and monitoring patient progress.\n",
       "\n",
       "### Finance\n",
       "\n",
       "In the finance sector, AI agents are being utilized to detect fraudulent transactions, predict market trends, and provide personalized investment advice. AI-powered virtual assistants can also help customers with account management, transaction processing, and other banking-related tasks. Furthermore, AI agents can assist financial institutions in complying with regulatory requirements, managing risk, and optimizing their operations.\n",
       "\n",
       "### Retail\n",
       "\n",
       "AI agents are revolutionizing the retail industry by enabling personalized customer experiences, improving supply chain management, and optimizing inventory levels. AI-powered chatbots can help customers with product recommendations, order tracking, and returns processing. Moreover, AI agents can assist retailers in predicting demand, managing pricing, and optimizing their marketing strategies.\n",
       "\n",
       "### Other Industries\n",
       "\n",
       "AI agents are also being applied in various other industries, including:\n",
       "\n",
       "* **Customer Service**: AI-powered chatbots can help companies provide 24/7 customer support, answering frequent questions and resolving common issues.\n",
       "* **Human Resources**: AI agents can assist HR teams with recruitment, employee onboarding, and benefits administration.\n",
       "* **Sales and Marketing**: AI agents can help sales teams with lead generation, prospecting, and account management, while also enabling marketers to personalize their campaigns and improve customer engagement.\n",
       "* **Procurement**: AI agents can assist procurement teams with supplier management, contract negotiation, and spend analysis.\n",
       "\n",
       "In conclusion, AI agents have the potential to transform various industries by automating tasks, improving decision-making, and enhancing customer experiences. As the technology continues to evolve, we can expect to see even more innovative applications of AI agents across different sectors.\n",
       "\n",
       "## Conclusion\n",
       "\n",
       "The latest developments in AI agents in 2025 have shown significant advancements in their capabilities, applications, and potential impact on various industries. With the ability to interact with their environment, collect data, and perform self-determined tasks, AI agents are poised to revolutionize the way businesses operate and make decisions.\n",
       "\n",
       "The key features of AI agents, including their autonomy, ability to learn, and adaptability, make them an attractive solution for industries looking to automate tasks, improve decision-making, and scale processes. The real-world applications of AI agents, such as in customer service, human resources, sales, procurement, and healthcare, demonstrate their potential to transform the way businesses operate and interact with customers.\n",
       "\n",
       "The technical architecture of AI agents, which combines advanced machine learning models with complex rules and algorithms, enables them to assess situations, predict outcomes, and take appropriate actions. The comparison with similar technologies, such as machine learning, highlights the unique capabilities of AI agents and their potential to drive innovation and growth.\n",
       "\n",
       "In conclusion, the latest developments in AI agents in 2025 have significant implications for businesses and industries looking to leverage the power of artificial intelligence to drive innovation and growth. As AI agents continue to evolve and improve, we can expect to see even more exciting applications and use cases emerge, transforming the way we live and work.\n",
       "\n",
       "**Recommendations:**\n",
       "\n",
       "1. **Invest in AI agent research and development**: Businesses and organizations should invest in research and development to explore the potential of AI agents and their applications in various industries.\n",
       "2. **Develop AI agent-based solutions**: Companies should develop AI agent-based solutions to automate tasks, improve decision-making, and scale processes, leading to increased efficiency and productivity.\n",
       "3. **Collaborate with AI experts**: Organizations should collaborate with AI experts and researchers to stay up-to-date with the latest developments in AI agents and their applications.\n",
       "4. **Address ethical and regulatory concerns**: Businesses and governments should address ethical and regulatory concerns related to AI agents, such as data privacy, security, and accountability.\n",
       "\n",
       "By following these recommendations, we can unlock the full potential of AI agents and drive innovation and growth in various industries, leading to a more efficient, productive, and sustainable future.\n",
       "\n"
      ],
      "text/plain": [
       "<IPython.core.display.Markdown object>"
      ]
     },
     "execution_count": 6,
     "metadata": {},
     "output_type": "execute_result"
    }
   ],
   "source": [
    "Markdown(state[\"report\"])"
   ]
  },
  {
   "cell_type": "code",
   "execution_count": null,
   "id": "36d51b56-dbe5-4bb5-bf9d-9e9f4998ff91",
   "metadata": {},
   "outputs": [],
   "source": []
  }
 ],
 "metadata": {
  "kernelspec": {
   "display_name": "Python 3 (ipykernel)",
   "language": "python",
   "name": "python3"
  },
  "language_info": {
   "codemirror_mode": {
    "name": "ipython",
    "version": 3
   },
   "file_extension": ".py",
   "mimetype": "text/x-python",
   "name": "python",
   "nbconvert_exporter": "python",
   "pygments_lexer": "ipython3",
   "version": "3.12.9"
  }
 },
 "nbformat": 4,
 "nbformat_minor": 5
}
