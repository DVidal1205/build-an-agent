{
 "cells": [
  {
   "cell_type": "markdown",
   "id": "fbbed95a-4ffe-4528-8e6d-08e2bcd9149f",
   "metadata": {},
   "source": [
    "# LinkedIn Slop Bot Client"
   ]
  },
  {
   "cell_type": "code",
   "execution_count": 1,
   "id": "77243ccf-c702-4f67-85f7-0ebe7808a963",
   "metadata": {},
   "outputs": [
    {
     "name": "stdout",
     "output_type": "stream",
     "text": [
      "Note: you may need to restart the kernel to use updated packages.\n"
     ]
    }
   ],
   "source": [
    "%pip install -r ../requirements.txt > /dev/null\n",
    "from dotenv import load_dotenv\n",
    "_ = load_dotenv(\"../variables.env\")\n",
    "_ = load_dotenv(\"../secrets.env\")"
   ]
  },
  {
   "cell_type": "code",
   "execution_count": 2,
   "id": "907fa086-42ee-40a0-8e60-d392de19b399",
   "metadata": {},
   "outputs": [
    {
     "name": "stderr",
     "output_type": "stream",
     "text": [
      "INFO:linkedin_agent.linkedin_agent:LinkedIn Slop Bot workflow compiled successfully with questionnaire and critique refinement loop\n"
     ]
    }
   ],
   "source": [
    "import logging\n",
    "logging.basicConfig(level=logging.INFO)\n",
    "\n",
    "from IPython.display import Markdown, display\n",
    "import ipywidgets as widgets\n",
    "from pathlib import Path\n",
    "\n",
    "from linkedin_agent import async_create_linkedin_post"
   ]
  },
  {
   "cell_type": "markdown",
   "id": "423b4043-81d6-4a1b-b432-b07fb3d043a0",
   "metadata": {},
   "source": [
    "## Content Inputs\n",
    "\n",
    "Configure your LinkedIn post content and image."
   ]
  },
  {
   "cell_type": "code",
   "execution_count": 3,
   "id": "51c1ee85-8472-46be-bbe9-66a14e93c812",
   "metadata": {},
   "outputs": [
    {
     "data": {
      "application/vnd.jupyter.widget-view+json": {
       "model_id": "0c5143280af44e52bcf2fba4767353ee",
       "version_major": 2,
       "version_minor": 0
      },
      "text/plain": [
       "Textarea(value='Share insights about working at a tech company and the importance of teamwork', description='C…"
      ]
     },
     "metadata": {},
     "output_type": "display_data"
    }
   ],
   "source": [
    "# Content prompt input\n",
    "prompt_widget = widgets.Textarea(\n",
    "    value=\"Share insights about working at a tech company and the importance of teamwork\",\n",
    "    placeholder=\"What should the LinkedIn post be about?\",\n",
    "    description=\"Content Prompt:\",\n",
    "    style={'description_width': 'initial'},\n",
    "    layout=widgets.Layout(width='100%', height='80px')\n",
    ")\n",
    "\n",
    "display(prompt_widget)"
   ]
  },
  {
   "cell_type": "code",
   "execution_count": 5,
   "id": "d0abd9ad-d1c0-4b57-b1b2-a87fa70df787",
   "metadata": {},
   "outputs": [
    {
     "data": {
      "application/vnd.jupyter.widget-view+json": {
       "model_id": "48550f2bb07d4494af4f30cc54ea8bc7",
       "version_major": 2,
       "version_minor": 0
      },
      "text/plain": [
       "HBox(children=(Text(value='image.jpeg', description='Image filename:', placeholder='image.jpeg', style=TextSty…"
      ]
     },
     "metadata": {},
     "output_type": "display_data"
    }
   ],
   "source": [
    "# Image and post type inputs\n",
    "image_widget = widgets.Text(\n",
    "    value=\"image.jpeg\",\n",
    "    placeholder=\"image.jpeg\",\n",
    "    description=\"Image filename:\",\n",
    "    style={'description_width': 'initial'}\n",
    ")\n",
    "\n",
    "post_type_widget = widgets.Dropdown(\n",
    "    options=[('General', 'general'), ('Motivation', 'motivation'), ('Industry Insight', 'industry_insight'), ('Personal Story', 'personal_story')],\n",
    "    value='general',\n",
    "    description='Post Type:',\n",
    "    style={'description_width': 'initial'}\n",
    ")\n",
    "\n",
    "display(widgets.HBox([image_widget, post_type_widget]))"
   ]
  },
  {
   "cell_type": "markdown",
   "id": "ff6ce016-b2f9-42bc-841b-5670b20a8688",
   "metadata": {},
   "source": [
    "## Style Questionnaire (1-5 Scales)\n",
    "\n",
    "Configure the style preferences for your LinkedIn post."
   ]
  },
  {
   "cell_type": "code",
   "execution_count": 6,
   "id": "c0669ee3-902c-44a0-8916-147e53a4fabc",
   "metadata": {},
   "outputs": [
    {
     "data": {
      "application/vnd.jupyter.widget-view+json": {
       "model_id": "441f2589e2b34bf69a72337823a3889e",
       "version_major": 2,
       "version_minor": 0
      },
      "text/plain": [
       "VBox(children=(IntSlider(value=3, continuous_update=False, description='Grammar Level:', max=5, min=1, style=S…"
      ]
     },
     "metadata": {},
     "output_type": "display_data"
    }
   ],
   "source": [
    "# Grammar level\n",
    "grammar_widget = widgets.IntSlider(\n",
    "    value=3,\n",
    "    min=1,\n",
    "    max=5,\n",
    "    step=1,\n",
    "    description='Grammar Level:',\n",
    "    style={'description_width': 'initial'},\n",
    "    continuous_update=False\n",
    ")\n",
    "\n",
    "grammar_labels = widgets.HTML(\n",
    "    value=\"<small><b>1:</b> Terrible (typos, informal) | <b>3:</b> Casual | <b>5:</b> Proper (perfect grammar)</small>\"\n",
    ")\n",
    "\n",
    "# Emoji level\n",
    "emoji_widget = widgets.IntSlider(\n",
    "    value=3,\n",
    "    min=1,\n",
    "    max=5,\n",
    "    step=1,\n",
    "    description='Emoji Level:',\n",
    "    style={'description_width': 'initial'},\n",
    "    continuous_update=False\n",
    ")\n",
    "\n",
    "emoji_labels = widgets.HTML(\n",
    "    value=\"<small><b>1:</b> Minimal (0-2 emojis) | <b>3:</b> Moderate (4-6 emojis) | <b>5:</b> Maximum (12+ emojis)</small>\"\n",
    ")\n",
    "\n",
    "# Hashtag level\n",
    "hashtag_widget = widgets.IntSlider(\n",
    "    value=3,\n",
    "    min=1,\n",
    "    max=5,\n",
    "    step=1,\n",
    "    description='Hashtag Level:',\n",
    "    style={'description_width': 'initial'},\n",
    "    continuous_update=False\n",
    ")\n",
    "\n",
    "hashtag_labels = widgets.HTML(\n",
    "    value=\"<small><b>1:</b> Few (3-5 hashtags) | <b>3:</b> Moderate (6-10 hashtags) | <b>5:</b> Maximum (15-20 hashtags)</small>\"\n",
    ")\n",
    "\n",
    "display(widgets.VBox([\n",
    "    grammar_widget, grammar_labels,\n",
    "    emoji_widget, emoji_labels,\n",
    "    hashtag_widget, hashtag_labels\n",
    "]))"
   ]
  },
  {
   "cell_type": "code",
   "execution_count": 8,
   "id": "90d4d944",
   "metadata": {},
   "outputs": [
    {
     "data": {
      "application/vnd.jupyter.widget-view+json": {
       "model_id": "08f64a8010cd47e1a9e017dee3ce373f",
       "version_major": 2,
       "version_minor": 0
      },
      "text/plain": [
       "VBox(children=(IntSlider(value=2, continuous_update=False, description='Ragebait Level:', max=5, min=1, style=…"
      ]
     },
     "metadata": {},
     "output_type": "display_data"
    }
   ],
   "source": [
    "# Ragebait level\n",
    "ragebait_widget = widgets.IntSlider(\n",
    "    value=2,\n",
    "    min=1,\n",
    "    max=5,\n",
    "    step=1,\n",
    "    description='Ragebait Level:',\n",
    "    style={'description_width': 'initial'},\n",
    "    continuous_update=False\n",
    ")\n",
    "\n",
    "ragebait_labels = widgets.HTML(\n",
    "    value=\"<small><b>1:</b> Humble (focus on others) | <b>3:</b> Balanced | <b>5:</b> Egotistical (highly self-absorbed)</small>\"\n",
    ")\n",
    "\n",
    "# Inspirational level\n",
    "inspirational_widget = widgets.IntSlider(\n",
    "    value=3,\n",
    "    min=1,\n",
    "    max=5,\n",
    "    step=1,\n",
    "    description='Inspirational Level:',\n",
    "    style={'description_width': 'initial'},\n",
    "    continuous_update=False\n",
    ")\n",
    "\n",
    "inspirational_labels = widgets.HTML(\n",
    "    value=\"<small><b>1:</b> Realistic (practical) | <b>3:</b> Balanced | <b>5:</b> Dream-big (highly inspirational)</small>\"\n",
    ")\n",
    "\n",
    "# Informational level\n",
    "informational_widget = widgets.IntSlider(\n",
    "    value=3,\n",
    "    min=1,\n",
    "    max=5,\n",
    "    step=1,\n",
    "    description='Informational Level:',\n",
    "    style={'description_width': 'initial'},\n",
    "    continuous_update=False\n",
    ")\n",
    "\n",
    "informational_labels = widgets.HTML(\n",
    "    value=\"<small><b>1:</b> Opinion-based (personal stories) | <b>3:</b> Balanced | <b>5:</b> Data-rich (facts & insights)</small>\"\n",
    ")\n",
    "\n",
    "display(widgets.VBox([\n",
    "    ragebait_widget, ragebait_labels,\n",
    "    inspirational_widget, inspirational_labels,\n",
    "    informational_widget, informational_labels\n",
    "]))\n"
   ]
  },
  {
   "cell_type": "code",
   "execution_count": 9,
   "id": "53804e0b",
   "metadata": {},
   "outputs": [
    {
     "ename": "SyntaxError",
     "evalue": "invalid syntax (8057473.py, line 3)",
     "output_type": "error",
     "traceback": [
      "  \u001b[36mCell\u001b[39m\u001b[36m \u001b[39m\u001b[32mIn[9]\u001b[39m\u001b[32m, line 3\u001b[39m\n\u001b[31m    \u001b[39m\u001b[31mClick the button below to generate your LinkedIn post with the configured settings.\u001b[39m\n          ^\n\u001b[31mSyntaxError\u001b[39m\u001b[31m:\u001b[39m invalid syntax\n"
     ]
    }
   ],
   "source": [
    "## Generate LinkedIn Post\n",
    "\n",
    "Click the button below to generate your LinkedIn post with the configured settings.\n"
   ]
  },
  {
   "cell_type": "code",
   "execution_count": 10,
   "id": "5116a260",
   "metadata": {},
   "outputs": [
    {
     "data": {
      "application/vnd.jupyter.widget-view+json": {
       "model_id": "6faddb3318c14357845af4891936545d",
       "version_major": 2,
       "version_minor": 0
      },
      "text/plain": [
       "Button(button_style='primary', description='🚀 Generate LinkedIn Post', layout=Layout(height='50px', width='300…"
      ]
     },
     "metadata": {},
     "output_type": "display_data"
    },
    {
     "data": {
      "application/vnd.jupyter.widget-view+json": {
       "model_id": "e62091c0337849d3a66fa7f123496439",
       "version_major": 2,
       "version_minor": 0
      },
      "text/plain": [
       "Output()"
      ]
     },
     "metadata": {},
     "output_type": "display_data"
    }
   ],
   "source": [
    "# Generate button and output area\n",
    "generate_button = widgets.Button(\n",
    "    description='🚀 Generate LinkedIn Post',\n",
    "    button_style='primary',\n",
    "    layout=widgets.Layout(width='300px', height='50px')\n",
    ")\n",
    "\n",
    "output_area = widgets.Output()\n",
    "\n",
    "async def generate_post(button):\n",
    "    \"\"\"Generate the LinkedIn post with current settings.\"\"\"\n",
    "    with output_area:\n",
    "        output_area.clear_output(wait=True)\n",
    "        \n",
    "        print(\"🚀 Generating LinkedIn post...\")\n",
    "        print(f\"📝 Prompt: {prompt_widget.value[:50]}...\")\n",
    "        print(f\"🖼️  Image: {image_widget.value or 'None'}\")\n",
    "        print(f\"🎭 Type: {post_type_widget.value}\")\n",
    "        print(f\"🎨 Style: Grammar={grammar_widget.value}, Emojis={emoji_widget.value}, Hashtags={hashtag_widget.value}\")\n",
    "        print(f\"🔥 Personality: Ragebait={ragebait_widget.value}, Inspirational={inspirational_widget.value}, Informational={informational_widget.value}\")\n",
    "        print(\"-\" * 80)\n",
    "        \n",
    "        try:\n",
    "            # Prepare image path\n",
    "            image_path = None\n",
    "            if image_widget.value.strip():\n",
    "                image_path = f\"images/{image_widget.value.strip()}\"\n",
    "                if not Path(image_path).exists():\n",
    "                    print(f\"⚠️  Warning: Image not found at {image_path}\")\n",
    "                    print(\"Continuing without image...\")\n",
    "                    image_path = None\n",
    "            \n",
    "            # Generate the post\n",
    "            result = await async_create_linkedin_post(\n",
    "                initial_prompt=prompt_widget.value,\n",
    "                image_path=image_path,\n",
    "                post_type=post_type_widget.value,\n",
    "                grammar_level=grammar_widget.value,\n",
    "                emoji_level=emoji_widget.value,\n",
    "                hashtag_level=hashtag_widget.value,\n",
    "                ragebait_level=ragebait_widget.value,\n",
    "                inspirational_level=inspirational_widget.value,\n",
    "                informational_level=informational_widget.value\n",
    "            )\n",
    "            \n",
    "            if result and result.get(\"final_post\"):\n",
    "                print(\"\\n🎯 SUCCESS! LinkedIn post generated.\")\n",
    "                print(\"=\" * 80)\n",
    "                \n",
    "                # Display the post as markdown\n",
    "                display(Markdown(result[\"final_post\"]))\n",
    "                \n",
    "            else:\n",
    "                print(\"❌ Failed to generate LinkedIn post\")\n",
    "                if result:\n",
    "                    print(f\"Available keys: {list(result.keys())}\")\n",
    "                    \n",
    "        except Exception as e:\n",
    "            print(f\"❌ Error: {e}\")\n",
    "            import traceback\n",
    "            traceback.print_exc()\n",
    "\n",
    "generate_button.on_click(generate_post)\n",
    "\n",
    "display(generate_button)\n",
    "display(output_area)\n"
   ]
  },
  {
   "cell_type": "markdown",
   "id": "6bdedc2f-164c-4ace-8f5b-cf27eefadbd2",
   "metadata": {},
   "source": [
    "## Style Configuration Summary\n",
    "\n",
    "Here's what each style parameter controls:"
   ]
  },
  {
   "cell_type": "code",
   "execution_count": 11,
   "id": "fe890305-0f1c-4c8d-a918-b5d0dbbfbe39",
   "metadata": {},
   "outputs": [
    {
     "data": {
      "application/vnd.jupyter.widget-view+json": {
       "model_id": "d0c3fb2c15d14037a704ba4504811d02",
       "version_major": 2,
       "version_minor": 0
      },
      "text/plain": [
       "HTML(value='\\n    <div style=\"background-color: #f8f9fa; padding: 15px; border-radius: 8px; margin: 10px 0;\">\\…"
      ]
     },
     "metadata": {},
     "output_type": "display_data"
    }
   ],
   "source": [
    "style_summary = widgets.HTML(\n",
    "    value=\"\"\"\n",
    "    <div style=\"background-color: #f8f9fa; padding: 15px; border-radius: 8px; margin: 10px 0;\">\n",
    "        <h4>🎨 Style Parameter Guide</h4>\n",
    "        <ul style=\"line-height: 1.6;\">\n",
    "            <li><b>Grammar Level:</b> Controls proper grammar, punctuation, and capitalization</li>\n",
    "            <li><b>Emoji Level:</b> Controls the number of emojis used throughout the post</li>\n",
    "            <li><b>Hashtag Level:</b> Controls the number of hashtags at the end of the post</li>\n",
    "            <li><b>Ragebait Level:</b> Controls how egotistical and self-absorbed the tone is</li>\n",
    "            <li><b>Inspirational Level:</b> Controls how motivational and uplifting the content is</li>\n",
    "            <li><b>Informational Level:</b> Controls how much data and facts vs personal opinions</li>\n",
    "        </ul>\n",
    "        <p><b>💡 Tip:</b> Try different combinations to create unique LinkedIn \"slop\" styles!</p>\n",
    "    </div>\n",
    "    \"\"\"\n",
    ")\n",
    "\n",
    "display(style_summary)"
   ]
  },
  {
   "cell_type": "code",
   "execution_count": 12,
   "id": "36d51b56-dbe5-4bb5-bf9d-9e9f4998ff91",
   "metadata": {},
   "outputs": [
    {
     "ename": "SyntaxError",
     "evalue": "invalid syntax (1903144093.py, line 3)",
     "output_type": "error",
     "traceback": [
      "  \u001b[36mCell\u001b[39m\u001b[36m \u001b[39m\u001b[32mIn[12]\u001b[39m\u001b[32m, line 3\u001b[39m\n\u001b[31m    \u001b[39m\u001b[31mTry these preset configurations for different LinkedIn styles:\u001b[39m\n        ^\n\u001b[31mSyntaxError\u001b[39m\u001b[31m:\u001b[39m invalid syntax\n"
     ]
    }
   ],
   "source": [
    "## Quick Style Presets\n",
    "\n",
    "Try these preset configurations for different LinkedIn styles:\n"
   ]
  },
  {
   "cell_type": "code",
   "execution_count": 13,
   "id": "4c340014",
   "metadata": {},
   "outputs": [
    {
     "data": {
      "application/vnd.jupyter.widget-view+json": {
       "model_id": "a8a483fc1d7740679aa78c7b26206edf",
       "version_major": 2,
       "version_minor": 0
      },
      "text/plain": [
       "HBox(children=(Button(button_style='danger', description='🎭 Max Slop', style=ButtonStyle()), Button(button_sty…"
      ]
     },
     "metadata": {},
     "output_type": "display_data"
    },
    {
     "data": {
      "application/vnd.jupyter.widget-view+json": {
       "model_id": "2a3d5cef17a745369a7484ae24629f0f",
       "version_major": 2,
       "version_minor": 0
      },
      "text/plain": [
       "Output()"
      ]
     },
     "metadata": {},
     "output_type": "display_data"
    }
   ],
   "source": [
    "def set_max_slop(button):\n",
    "    \"\"\"Set maximum slop configuration.\"\"\"\n",
    "    grammar_widget.value = 1\n",
    "    emoji_widget.value = 5\n",
    "    hashtag_widget.value = 5\n",
    "    ragebait_widget.value = 5\n",
    "    inspirational_widget.value = 4\n",
    "    informational_widget.value = 2\n",
    "    print(\"🎭 Set to MAXIMUM SLOP style!\")\n",
    "\n",
    "def set_professional(button):\n",
    "    \"\"\"Set professional configuration.\"\"\"\n",
    "    grammar_widget.value = 5\n",
    "    emoji_widget.value = 1\n",
    "    hashtag_widget.value = 2\n",
    "    ragebait_widget.value = 1\n",
    "    inspirational_widget.value = 2\n",
    "    informational_widget.value = 5\n",
    "    print(\"👔 Set to PROFESSIONAL style!\")\n",
    "\n",
    "def set_balanced(button):\n",
    "    \"\"\"Set balanced configuration.\"\"\"\n",
    "    grammar_widget.value = 3\n",
    "    emoji_widget.value = 3\n",
    "    hashtag_widget.value = 3\n",
    "    ragebait_widget.value = 2\n",
    "    inspirational_widget.value = 3\n",
    "    informational_widget.value = 3\n",
    "    print(\"⚖️ Set to BALANCED style!\")\n",
    "\n",
    "max_slop_btn = widgets.Button(description='🎭 Max Slop', button_style='danger')\n",
    "professional_btn = widgets.Button(description='👔 Professional', button_style='success')\n",
    "balanced_btn = widgets.Button(description='⚖️ Balanced', button_style='info')\n",
    "\n",
    "max_slop_btn.on_click(set_max_slop)\n",
    "professional_btn.on_click(set_professional)\n",
    "balanced_btn.on_click(set_balanced)\n",
    "\n",
    "preset_output = widgets.Output()\n",
    "\n",
    "display(widgets.HBox([max_slop_btn, professional_btn, balanced_btn]))\n",
    "display(preset_output)\n"
   ]
  },
  {
   "cell_type": "code",
   "execution_count": null,
   "id": "f0455628-d257-4e9b-af13-5807c5e66afe",
   "metadata": {},
   "outputs": [],
   "source": []
  }
 ],
 "metadata": {
  "kernelspec": {
   "display_name": "Python 3 (ipykernel)",
   "language": "python",
   "name": "python3"
  },
  "language_info": {
   "codemirror_mode": {
    "name": "ipython",
    "version": 3
   },
   "file_extension": ".py",
   "mimetype": "text/x-python",
   "name": "python",
   "nbconvert_exporter": "python",
   "pygments_lexer": "ipython3",
   "version": "3.12.9"
  }
 },
 "nbformat": 4,
 "nbformat_minor": 5
}
